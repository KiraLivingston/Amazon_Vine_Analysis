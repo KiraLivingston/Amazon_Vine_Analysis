{
  "nbformat": 4,
  "nbformat_minor": 0,
  "metadata": {
    "colab": {
      "name": "Amazon_Reviews_ETL.ipynb",
      "provenance": []
    },
    "kernelspec": {
      "name": "python3",
      "display_name": "Python 3"
    },
    "nteract": {
      "version": "0.12.3"
    },
    "language_info": {
      "name": "python"
    }
  },
  "cells": [
    {
      "cell_type": "code",
      "metadata": {
        "id": "V58rxea0HqSa",
        "colab": {
          "base_uri": "https://localhost:8080/"
        },
        "outputId": "95e94ffc-26dd-44dc-dd4c-267e9c6e758f"
      },
      "source": [
        "import os\n",
        "# Find the latest version of spark 3.0 from http://www.apache.org/dist/spark/ and enter as the spark version\n",
        "# For example:\n",
        "# spark_version = 'spark-3.0.3'\n",
        "spark_version = 'spark-3.0.3'\n",
        "os.environ['SPARK_VERSION']=spark_version\n",
        "\n",
        "# Install Spark and Java\n",
        "!apt-get update\n",
        "!apt-get install openjdk-11-jdk-headless -qq > /dev/null\n",
        "!wget -q http://www.apache.org/dist/spark/$SPARK_VERSION/$SPARK_VERSION-bin-hadoop2.7.tgz\n",
        "!tar xf $SPARK_VERSION-bin-hadoop2.7.tgz\n",
        "!pip install -q findspark\n",
        "\n",
        "# Set Environment Variables\n",
        "import os\n",
        "os.environ[\"JAVA_HOME\"] = \"/usr/lib/jvm/java-11-openjdk-amd64\"\n",
        "os.environ[\"SPARK_HOME\"] = f\"/content/{spark_version}-bin-hadoop2.7\"\n",
        "\n",
        "# Start a SparkSession\n",
        "import findspark\n",
        "findspark.init()"
      ],
      "execution_count": 1,
      "outputs": [
        {
          "output_type": "stream",
          "name": "stdout",
          "text": [
            "\r0% [Working]\r            \rGet:1 http://security.ubuntu.com/ubuntu bionic-security InRelease [88.7 kB]\n",
            "\r0% [Connecting to archive.ubuntu.com] [1 InRelease 14.2 kB/88.7 kB 16%] [Connec\r                                                                               \rGet:2 https://cloud.r-project.org/bin/linux/ubuntu bionic-cran40/ InRelease [3,626 B]\n",
            "Ign:3 https://developer.download.nvidia.com/compute/cuda/repos/ubuntu1804/x86_64  InRelease\n",
            "Hit:4 http://archive.ubuntu.com/ubuntu bionic InRelease\n",
            "Get:5 http://archive.ubuntu.com/ubuntu bionic-updates InRelease [88.7 kB]\n",
            "Get:6 http://ppa.launchpad.net/c2d4u.team/c2d4u4.0+/ubuntu bionic InRelease [15.9 kB]\n",
            "Ign:7 https://developer.download.nvidia.com/compute/machine-learning/repos/ubuntu1804/x86_64  InRelease\n",
            "Get:8 https://developer.download.nvidia.com/compute/cuda/repos/ubuntu1804/x86_64  Release [696 B]\n",
            "Hit:9 https://developer.download.nvidia.com/compute/machine-learning/repos/ubuntu1804/x86_64  Release\n",
            "Get:10 https://developer.download.nvidia.com/compute/cuda/repos/ubuntu1804/x86_64  Release.gpg [836 B]\n",
            "Get:11 http://archive.ubuntu.com/ubuntu bionic-backports InRelease [74.6 kB]\n",
            "Hit:12 http://ppa.launchpad.net/cran/libgit2/ubuntu bionic InRelease\n",
            "Get:13 http://ppa.launchpad.net/deadsnakes/ppa/ubuntu bionic InRelease [15.9 kB]\n",
            "Get:14 http://security.ubuntu.com/ubuntu bionic-security/main amd64 Packages [2,695 kB]\n",
            "Get:15 http://security.ubuntu.com/ubuntu bionic-security/universe amd64 Packages [1,490 kB]\n",
            "Hit:16 http://ppa.launchpad.net/graphics-drivers/ppa/ubuntu bionic InRelease\n",
            "Get:18 https://developer.download.nvidia.com/compute/cuda/repos/ubuntu1804/x86_64  Packages [953 kB]\n",
            "Get:19 http://ppa.launchpad.net/c2d4u.team/c2d4u4.0+/ubuntu bionic/main Sources [1,947 kB]\n",
            "Get:20 http://archive.ubuntu.com/ubuntu bionic-updates/universe amd64 Packages [2,268 kB]\n",
            "Get:21 http://archive.ubuntu.com/ubuntu bionic-updates/main amd64 Packages [3,134 kB]\n",
            "Get:22 http://ppa.launchpad.net/c2d4u.team/c2d4u4.0+/ubuntu bionic/main amd64 Packages [996 kB]\n",
            "Get:23 http://ppa.launchpad.net/deadsnakes/ppa/ubuntu bionic/main amd64 Packages [45.3 kB]\n",
            "Fetched 13.8 MB in 4s (3,674 kB/s)\n",
            "Reading package lists... Done\n"
          ]
        }
      ]
    },
    {
      "cell_type": "code",
      "metadata": {
        "id": "_xKwTpATHqSe",
        "colab": {
          "base_uri": "https://localhost:8080/"
        },
        "outputId": "d12668b4-6997-4148-dd75-7641330334fc"
      },
      "source": [
        "# Download the Postgres driver that will allow Spark to interact with Postgres.\n",
        "!wget https://jdbc.postgresql.org/download/postgresql-42.2.16.jar"
      ],
      "execution_count": 2,
      "outputs": [
        {
          "output_type": "stream",
          "name": "stdout",
          "text": [
            "--2022-04-16 21:03:35--  https://jdbc.postgresql.org/download/postgresql-42.2.16.jar\n",
            "Resolving jdbc.postgresql.org (jdbc.postgresql.org)... 72.32.157.228, 2001:4800:3e1:1::228\n",
            "Connecting to jdbc.postgresql.org (jdbc.postgresql.org)|72.32.157.228|:443... connected.\n",
            "HTTP request sent, awaiting response... 200 OK\n",
            "Length: 1002883 (979K) [application/java-archive]\n",
            "Saving to: ‘postgresql-42.2.16.jar’\n",
            "\n",
            "postgresql-42.2.16. 100%[===================>] 979.38K  --.-KB/s    in 0.1s    \n",
            "\n",
            "2022-04-16 21:03:36 (6.83 MB/s) - ‘postgresql-42.2.16.jar’ saved [1002883/1002883]\n",
            "\n"
          ]
        }
      ]
    },
    {
      "cell_type": "code",
      "metadata": {
        "id": "MMqDAjVS0KN9"
      },
      "source": [
        "from pyspark.sql import SparkSession\n",
        "spark = SparkSession.builder.appName(\"M16-Amazon-Challenge\").config(\"spark.driver.extraClassPath\",\"/content/postgresql-42.2.16.jar\").getOrCreate()"
      ],
      "execution_count": 3,
      "outputs": []
    },
    {
      "cell_type": "markdown",
      "metadata": {
        "id": "cyBsySGuY-9V"
      },
      "source": [
        "### Load Amazon Data into Spark DataFrame"
      ]
    },
    {
      "cell_type": "code",
      "metadata": {
        "id": "CtCmBhQJY-9Z",
        "colab": {
          "base_uri": "https://localhost:8080/"
        },
        "outputId": "ec6cd834-5beb-42f7-f0e5-d8e9eaae7d3f"
      },
      "source": [
        "from pyspark import SparkFiles\n",
        "url = \"\"\n",
        "spark.sparkContext.addFile('https://s3.amazonaws.com/amazon-reviews-pds/tsv/amazon_reviews_us_Major_Appliances_v1_00.tsv.gz')\n",
        "df = spark.read.option(\"encoding\", \"UTF-8\").csv(SparkFiles.get(\"\"), sep=\"\\t\", header=True, inferSchema=True)\n",
        "df.show()"
      ],
      "execution_count": 8,
      "outputs": [
        {
          "output_type": "stream",
          "name": "stdout",
          "text": [
            "+-----------+-----------+--------------+----------+--------------+--------------------+----------------+-----------+-------------+-----------+----+-----------------+--------------------+--------------------+-----------+\n",
            "|marketplace|customer_id|     review_id|product_id|product_parent|       product_title|product_category|star_rating|helpful_votes|total_votes|vine|verified_purchase|     review_headline|         review_body|review_date|\n",
            "+-----------+-----------+--------------+----------+--------------+--------------------+----------------+-----------+-------------+-----------+----+-----------------+--------------------+--------------------+-----------+\n",
            "|         US|   16199106|R203HPW78Z7N4K|B0067WNSZY|     633038551|FGGF3032MW Galler...|Major Appliances|          5|            0|          0|   N|                Y|If you need a new...|What a great stov...| 2015-08-31|\n",
            "|         US|   16374060|R2EAIGVLEALSP3|B002QSXK60|     811766671|Best Hand Clothes...|Major Appliances|          5|            1|          1|   N|                Y|          Five Stars|        worked great| 2015-08-31|\n",
            "|         US|   15322085|R1K1CD73HHLILA|B00EC452R6|     345562728|Supco SET184 Ther...|Major Appliances|          5|            0|          0|   N|                Y|       Fast Shipping|Part exactly what...| 2015-08-31|\n",
            "|         US|   32004835|R2KZBMOFRMYOPO|B00MVVIF2G|     563052763|Midea WHS-160RB1 ...|Major Appliances|          5|            1|          1|   N|                Y|          Five Stars|Love my refrigera...| 2015-08-31|\n",
            "|         US|   25414497| R6BIZOZY6UD01|B00IY7BNUW|     874236579|Avalon Bay Portab...|Major Appliances|          5|            0|          0|   N|                Y|          Five Stars|No more running t...| 2015-08-31|\n",
            "|         US|   36311751|R1MCXZFNF8E7Y0|B0033X29CI|     294467812|Danby  Freestandi...|Major Appliances|          1|            0|          0|   N|                Y|       Piece of Junk|It would not cool...| 2015-08-31|\n",
            "|         US|   30920961|R3EMB3E3ODR6BW|B005R597HA|     183784715|Avanti 110-Volt A...|Major Appliances|          5|            2|          2|   N|                Y|Works awesome for...|Works awesome for...| 2015-08-31|\n",
            "|         US|   52491265| RJTONVTTOPJ5S|B00MO6V8Y0|     960251524|      Danby products|Major Appliances|          5|            0|          0|   N|                Y|          Five Stars|exactly what I wa...| 2015-08-31|\n",
            "|         US|   48166169|R21U5QZ2CQECUM|B00HT39QDI|     992475314|3 Pack Tier1 MSWF...|Major Appliances|          4|            0|          0|   N|                Y|          Four Stars|       AS advertised| 2015-08-31|\n",
            "|         US|   50394924| RL2BBC51H89DH|B00LESFZ52|       1641606|True TSSU-60-16 6...|Major Appliances|          4|            0|          0|   N|                Y|but has poor insu...|It works as adver...| 2015-08-31|\n",
            "|         US|    3915552|R3RNEPHF3WIRSZ|B0149IJVPI|     838108342|Magic: the Gather...|Major Appliances|          2|            0|          0|   N|                N|           Two Stars|it's not worth 22...| 2015-08-31|\n",
            "|         US|   17068589|R38DNT9KML2PF3|B002HT0958|     387104338|Mini Portable Cou...|Major Appliances|          5|            0|          0|   N|                Y| Love it for camping|Wonderful! It spi...| 2015-08-31|\n",
            "|         US|   52081068|R2ECMBJM8KNNC8|B006WOBNX6|     180688127|1 X Dishwasher Ra...|Major Appliances|          4|            0|          0|   N|                Y|          Four Stars|Did the job but d...| 2015-08-31|\n",
            "|         US|   13783713|R2F3F92PRN9T7S|B00NLPMOU0|     570132358|Watson 1.5 ft AC ...|Major Appliances|          5|            0|          0|   N|                Y|Very well satisfied.|Arrived on time a...| 2015-08-31|\n",
            "|         US|   14555366|R35XNT88XVEMK6|B00KJ07SEM|     313983847|GE MWF SmartWater...|Major Appliances|          5|            1|          1|   N|                Y|          Five Stars|               Super| 2015-08-31|\n",
            "|         US|   48417244| RZRXLHQS71FUP|B001AT2ALM|     364403440|Koldfront Ultra C...|Major Appliances|          4|            1|          1|   N|                Y|          Four Stars|Looking forward t...| 2015-08-31|\n",
            "|         US|   19010760|R3J9T4MZRAURV5|B00JG8B42K|     672722354|OnePurify RFC0800...|Major Appliances|          1|            0|          0|   N|                Y|     dont waste your|cheap knock-off. ...| 2015-08-31|\n",
            "|         US|   43532555|R3CLDHHI0ZSQLO|B00FRJ5EWS|     137548022|2016 Life Water I...|Major Appliances|          5|            1|          2|   N|                N|       Great Product|My wife is lookin...| 2015-08-31|\n",
            "|         US|   21879631| RY52KZABZK8QF|B0052G14E8|     423421857|Danby 0.7 cu.ft. ...|Major Appliances|          1|            0|          0|   N|                Y|Do not recommend ...|3 of the buttons ...| 2015-08-31|\n",
            "|         US|     810098|R25RXV5X29M3UC|B00LOVVE9A|     386722389|SPT UF-304SS Ener...|Major Appliances|          4|            0|          1|   N|                Y|          Four Stars|     So far so good.| 2015-08-31|\n",
            "+-----------+-----------+--------------+----------+--------------+--------------------+----------------+-----------+-------------+-----------+----+-----------------+--------------------+--------------------+-----------+\n",
            "only showing top 20 rows\n",
            "\n"
          ]
        }
      ]
    },
    {
      "cell_type": "markdown",
      "metadata": {
        "id": "2yUSe55VY-9t"
      },
      "source": [
        "### Create DataFrames to match tables"
      ]
    },
    {
      "cell_type": "code",
      "metadata": {
        "id": "C8REmY1aY-9u"
      },
      "source": [
        "from pyspark.sql.functions import to_date\n",
        "# Read in the Review dataset as a DataFrame\n"
      ],
      "execution_count": 9,
      "outputs": []
    },
    {
      "cell_type": "code",
      "metadata": {
        "id": "B0TESUDRY-90",
        "colab": {
          "base_uri": "https://localhost:8080/"
        },
        "outputId": "23069df3-919e-4927-e077-5237aefc4b03"
      },
      "source": [
        "# Create the customers_table DataFrame\n",
        "customers_df = df.groupby(\"customer_id\").agg({\"customer_id\":\"count\"}).withColumnRenamed(\"count(customer_id)\", \"customer_count\")\n",
        "customers_df.show()"
      ],
      "execution_count": 19,
      "outputs": [
        {
          "output_type": "stream",
          "name": "stdout",
          "text": [
            "+-----------+--------------+\n",
            "|customer_id|customer_count|\n",
            "+-----------+--------------+\n",
            "|   13326061|             1|\n",
            "|   52512151|             1|\n",
            "|    8968933|             1|\n",
            "|   39416583|             1|\n",
            "|   21737233|             1|\n",
            "|   44119972|             1|\n",
            "|   13947800|             1|\n",
            "|   21482558|             1|\n",
            "|    2802853|             1|\n",
            "|   18518845|             1|\n",
            "|     122484|             1|\n",
            "|   14035069|             1|\n",
            "|   20004191|             1|\n",
            "|   16699322|             1|\n",
            "|   24768141|             1|\n",
            "|   24424556|             1|\n",
            "|   44293588|             1|\n",
            "|   13188682|             1|\n",
            "|   23298840|             1|\n",
            "|   50731398|             1|\n",
            "+-----------+--------------+\n",
            "only showing top 20 rows\n",
            "\n"
          ]
        }
      ]
    },
    {
      "cell_type": "code",
      "metadata": {
        "id": "4FwXA6UvY-96",
        "colab": {
          "base_uri": "https://localhost:8080/"
        },
        "outputId": "4b83ce38-9026-4c5f-a308-bd86c9c4be8d"
      },
      "source": [
        "# Create the products_table DataFrame and drop duplicates. \n",
        "products_df = df.select([\"product_id\",\"product_title\"]).drop_duplicates()\n",
        "products_df.show(truncate=False)"
      ],
      "execution_count": 23,
      "outputs": [
        {
          "output_type": "stream",
          "name": "stdout",
          "text": [
            "+----------+----------------------------------------------------------------------------------------------------------------------------------------------------------------------------------------------------------------------------------------------------------+\n",
            "|product_id|product_title                                                                                                                                                                                                                                             |\n",
            "+----------+----------------------------------------------------------------------------------------------------------------------------------------------------------------------------------------------------------------------------------------------------------+\n",
            "|B00RE645WC|WindMax 23\" Stainless Steel 4 Burner Stoves Gas Hob Cooktops Cooker Gas Oven 11259Btu/H                                                                                                                                                                   |\n",
            "|B008SCVL6E|G.E. Microwave Glass Turntable Plate / Tray 12 1/2 \" WB39X10003                                                                                                                                                                                           |\n",
            "|B0081LV860|Samsung WF405ATPA 4.0 Cu. Ft. Front Load Washer with VTR, SpeedSpray and PowerFoam in Platinum,                                                                                                                                                           |\n",
            "|B00KC812WK|2-pack OnePurify  Water Filter Replacement Cartridge for Samsung, Water Sentinel, Aqua Fresh, Swift Green, PUR, Kenmore                                                                                                                                   |\n",
            "|B00MEPNYRK|GE PSB48YSHSS Profile 28.6 Cu. Ft. Stainless Steel Counter Depth Built-In Side-By-Side Refrigerator                                                                                                                                                       |\n",
            "|B000JONLMQ|KitchenAid 18\" TRASH COMPACTOR BAGS 15/ea White 4318938                                                                                                                                                                                                   |\n",
            "|B0073M7GNC|Whirlpool WOS92EC0AB 30\" Black Electric Single Wall Oven - Convection                                                                                                                                                                                     |\n",
            "|B00BIWR3IQ|GE Profile PWE23KSDSS 22.7 cu. ft. Energy Star Qualified Counter-Depth French Door Refrigerator with High-Gloss Doors TwinChill Evaporators Hidden Hinges Advanced Filtration System and Drop-Down Tray in Stainless                                      |\n",
            "|B00O3XF1RC|MobileWasher Kit - Hand Operating Washing Machine - Perfect for Camping, Boat, Apt, Dorms, Emergencies, Conserve Water - No Risk - 100% Lifetime Satisfaction Guaranteed - Plus Tide Pods Laundry Detergent Spring Meadow Scent for 12 Loads - Try It Now!|\n",
            "|B00JDB6P3I|Bosch NGM5055UC 500 Series 30\" Gas Cooktop with Four Sealed Burners Automatic Re-ignition LP Conversion Kit 16 000 BTU Burn Capacity in Stainless                                                                                                         |\n",
            "|B0011YJE7Y|GE PHP960DMBB Profile 36\" Black Electric Induction Cooktop                                                                                                                                                                                                |\n",
            "|B00J4EBYBM|Bosch HBL5651UC 500 30\" Stainless Steel Electric Double Wall Oven - Convection                                                                                                                                                                            |\n",
            "|B0056HJ07Q|Frigidaire FHPC3660LS Gallery Series 36&quot; Island Mount Chimney Range Hood with 400 CFM Internal Blower Halogen Lighting 3-Speed Centrifugal Fan Smudge-Proof Stainless                                                                                |\n",
            "|B00FGWW82A|Frigidaire FFFS5115PA3.9 Cu. Ft. Classic Silver Stackable With Steam Cycle Front Load Washer - Energy Star                                                                                                                                                |\n",
            "|B004UM5Y32|None Ers30t10074 8\" Ge(r) Surface Element                                                                                                                                                                                                                 |\n",
            "|B00MANTPJM|GE Profile PFE28RSHSS 36&quot; French Door Refrigerator with 27.7 cu. ft. Capacity 5 Shelves Dual Icemaker TwinChill Evaporators Showcase LED Lighting Hands-Free AutoFill and Color LCD Screen in Stainless                                              |\n",
            "|B006L8PW1C|Fisher Paykel DD24DCTX7 DishDrawer 24\" Stainless Steel Semi-Integrated Dishwasher - Energy Star                                                                                                                                                           |\n",
            "|B00T9WOH5E|Lg Lt600p Compatible Refrigerator Water Filter By Clear Sip                                                                                                                                                                                               |\n",
            "|B001DHRJSU|Whirlpool Part Number 37001286: DRYER CONT                                                                                                                                                                                                                |\n",
            "|B0050KKN8E|Whirlpool Part Number 359230: Switch, Lid (Alt.)                                                                                                                                                                                                          |\n",
            "+----------+----------------------------------------------------------------------------------------------------------------------------------------------------------------------------------------------------------------------------------------------------------+\n",
            "only showing top 20 rows\n",
            "\n"
          ]
        }
      ]
    },
    {
      "cell_type": "code",
      "metadata": {
        "id": "MkqyCuNQY-9-",
        "colab": {
          "base_uri": "https://localhost:8080/"
        },
        "outputId": "a88985ff-3daa-4a10-bf86-0fb135085e07"
      },
      "source": [
        "# Create the review_id_table DataFrame. \n",
        "# Convert the 'review_date' column to a date datatype with to_date(\"review_date\", 'yyyy-MM-dd').alias(\"review_date\")\n",
        "review_id_df = df.select([\"review_id\", \"customer_id\", \"product_id\", \"product_parent\",to_date(\"review_date\", 'yyyy-MM-dd').alias(\"review_date\")])\n",
        "review_id_df.show()"
      ],
      "execution_count": 24,
      "outputs": [
        {
          "output_type": "stream",
          "name": "stdout",
          "text": [
            "+--------------+-----------+----------+--------------+-----------+\n",
            "|     review_id|customer_id|product_id|product_parent|review_date|\n",
            "+--------------+-----------+----------+--------------+-----------+\n",
            "|R203HPW78Z7N4K|   16199106|B0067WNSZY|     633038551| 2015-08-31|\n",
            "|R2EAIGVLEALSP3|   16374060|B002QSXK60|     811766671| 2015-08-31|\n",
            "|R1K1CD73HHLILA|   15322085|B00EC452R6|     345562728| 2015-08-31|\n",
            "|R2KZBMOFRMYOPO|   32004835|B00MVVIF2G|     563052763| 2015-08-31|\n",
            "| R6BIZOZY6UD01|   25414497|B00IY7BNUW|     874236579| 2015-08-31|\n",
            "|R1MCXZFNF8E7Y0|   36311751|B0033X29CI|     294467812| 2015-08-31|\n",
            "|R3EMB3E3ODR6BW|   30920961|B005R597HA|     183784715| 2015-08-31|\n",
            "| RJTONVTTOPJ5S|   52491265|B00MO6V8Y0|     960251524| 2015-08-31|\n",
            "|R21U5QZ2CQECUM|   48166169|B00HT39QDI|     992475314| 2015-08-31|\n",
            "| RL2BBC51H89DH|   50394924|B00LESFZ52|       1641606| 2015-08-31|\n",
            "|R3RNEPHF3WIRSZ|    3915552|B0149IJVPI|     838108342| 2015-08-31|\n",
            "|R38DNT9KML2PF3|   17068589|B002HT0958|     387104338| 2015-08-31|\n",
            "|R2ECMBJM8KNNC8|   52081068|B006WOBNX6|     180688127| 2015-08-31|\n",
            "|R2F3F92PRN9T7S|   13783713|B00NLPMOU0|     570132358| 2015-08-31|\n",
            "|R35XNT88XVEMK6|   14555366|B00KJ07SEM|     313983847| 2015-08-31|\n",
            "| RZRXLHQS71FUP|   48417244|B001AT2ALM|     364403440| 2015-08-31|\n",
            "|R3J9T4MZRAURV5|   19010760|B00JG8B42K|     672722354| 2015-08-31|\n",
            "|R3CLDHHI0ZSQLO|   43532555|B00FRJ5EWS|     137548022| 2015-08-31|\n",
            "| RY52KZABZK8QF|   21879631|B0052G14E8|     423421857| 2015-08-31|\n",
            "|R25RXV5X29M3UC|     810098|B00LOVVE9A|     386722389| 2015-08-31|\n",
            "+--------------+-----------+----------+--------------+-----------+\n",
            "only showing top 20 rows\n",
            "\n"
          ]
        }
      ]
    },
    {
      "cell_type": "code",
      "metadata": {
        "id": "lzMmkdKmY--D",
        "colab": {
          "base_uri": "https://localhost:8080/"
        },
        "outputId": "138efeaf-ee44-4e07-d016-eb2ee4c4083d"
      },
      "source": [
        "# Create the vine_table. DataFrame\n",
        "vine_df = df.select([\"review_id\", \"star_rating\", \"helpful_votes\", \"total_votes\", \"vine\", \"verified_purchase\"])\n",
        "vine_df.show()"
      ],
      "execution_count": 25,
      "outputs": [
        {
          "output_type": "stream",
          "name": "stdout",
          "text": [
            "+--------------+-----------+-------------+-----------+----+-----------------+\n",
            "|     review_id|star_rating|helpful_votes|total_votes|vine|verified_purchase|\n",
            "+--------------+-----------+-------------+-----------+----+-----------------+\n",
            "|R203HPW78Z7N4K|          5|            0|          0|   N|                Y|\n",
            "|R2EAIGVLEALSP3|          5|            1|          1|   N|                Y|\n",
            "|R1K1CD73HHLILA|          5|            0|          0|   N|                Y|\n",
            "|R2KZBMOFRMYOPO|          5|            1|          1|   N|                Y|\n",
            "| R6BIZOZY6UD01|          5|            0|          0|   N|                Y|\n",
            "|R1MCXZFNF8E7Y0|          1|            0|          0|   N|                Y|\n",
            "|R3EMB3E3ODR6BW|          5|            2|          2|   N|                Y|\n",
            "| RJTONVTTOPJ5S|          5|            0|          0|   N|                Y|\n",
            "|R21U5QZ2CQECUM|          4|            0|          0|   N|                Y|\n",
            "| RL2BBC51H89DH|          4|            0|          0|   N|                Y|\n",
            "|R3RNEPHF3WIRSZ|          2|            0|          0|   N|                N|\n",
            "|R38DNT9KML2PF3|          5|            0|          0|   N|                Y|\n",
            "|R2ECMBJM8KNNC8|          4|            0|          0|   N|                Y|\n",
            "|R2F3F92PRN9T7S|          5|            0|          0|   N|                Y|\n",
            "|R35XNT88XVEMK6|          5|            1|          1|   N|                Y|\n",
            "| RZRXLHQS71FUP|          4|            1|          1|   N|                Y|\n",
            "|R3J9T4MZRAURV5|          1|            0|          0|   N|                Y|\n",
            "|R3CLDHHI0ZSQLO|          5|            1|          2|   N|                N|\n",
            "| RY52KZABZK8QF|          1|            0|          0|   N|                Y|\n",
            "|R25RXV5X29M3UC|          4|            0|          1|   N|                Y|\n",
            "+--------------+-----------+-------------+-----------+----+-----------------+\n",
            "only showing top 20 rows\n",
            "\n"
          ]
        }
      ]
    },
    {
      "cell_type": "markdown",
      "metadata": {
        "id": "jITZhLkmY--J"
      },
      "source": [
        "### Connect to the AWS RDS instance and write each DataFrame to its table. "
      ]
    },
    {
      "cell_type": "code",
      "metadata": {
        "id": "7jiUvs1aY--L"
      },
      "source": [
        "# Configure settings for RDS\n",
        "mode = \"append\"\n",
        "jdbc_url=\"jdbc:postgresql://aws-module-16.canl0memlgtt.us-east-1.rds.amazonaws.com:5432/postgres\"\n",
        "config = {\"user\":\"postgres\", \n",
        "          \"password\": \"********\", \n",
        "          \"driver\":\"org.postgresql.Driver\"}"
      ],
      "execution_count": 31,
      "outputs": []
    },
    {
      "cell_type": "code",
      "metadata": {
        "id": "T2zgZ-aKY--Q"
      },
      "source": [
        "# Write review_id_df to table in RDS\n",
        "review_id_df.write.jdbc(url=jdbc_url, table='review_id_table', mode=mode, properties=config)"
      ],
      "execution_count": 32,
      "outputs": []
    },
    {
      "cell_type": "code",
      "metadata": {
        "id": "1m3yzn-LY--U"
      },
      "source": [
        "# Write products_df to table in RDS\n",
        "# about 3 min\n",
        "products_df.write.jdbc(url=jdbc_url, table='products_table', mode=mode, properties=config)"
      ],
      "execution_count": 33,
      "outputs": []
    },
    {
      "cell_type": "code",
      "metadata": {
        "id": "KbXri15fY--Z"
      },
      "source": [
        "# Write customers_df to table in RDS\n",
        "# 5 min 14 s\n",
        "customers_df.write.jdbc(url=jdbc_url, table='customers_table', mode=mode, properties=config)"
      ],
      "execution_count": 34,
      "outputs": []
    },
    {
      "cell_type": "code",
      "metadata": {
        "id": "XdQknSHLY--e"
      },
      "source": [
        "# Write vine_df to table in RDS\n",
        "# 11 minutes\n",
        "vine_df.write.jdbc(url=jdbc_url, table='vine_table', mode=mode, properties=config)"
      ],
      "execution_count": 35,
      "outputs": []
    },
    {
      "cell_type": "code",
      "metadata": {
        "id": "Exuo6ebUsCqW"
      },
      "source": [
        ""
      ],
      "execution_count": null,
      "outputs": []
    }
  ]
}